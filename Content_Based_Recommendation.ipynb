{
  "nbformat": 4,
  "nbformat_minor": 0,
  "metadata": {
    "colab": {
      "provenance": []
    },
    "kernelspec": {
      "name": "python3",
      "display_name": "Python 3"
    },
    "language_info": {
      "name": "python"
    }
  },
  "cells": [
    {
      "cell_type": "markdown",
      "source": [
        "# Luma AI/Machine Learning Intern Challenge: Simple Content-Based Recommendation"
      ],
      "metadata": {
        "id": "OvcNTkQrHMKn"
      }
    },
    {
      "cell_type": "markdown",
      "source": [
        "# Libraries:"
      ],
      "metadata": {
        "id": "u_PpT7LvDcXK"
      }
    },
    {
      "cell_type": "code",
      "source": [
        "import pandas as pd\n",
        "import numpy as np\n",
        "from sklearn.feature_extraction.text import TfidfVectorizer\n",
        "from sklearn.metrics.pairwise import cosine_similarity\n",
        "import re"
      ],
      "metadata": {
        "id": "DFKaRo7L_3zH"
      },
      "execution_count": 20,
      "outputs": []
    },
    {
      "cell_type": "markdown",
      "source": [
        "# Movie Recommender Class:\n",
        "\n",
        "The `MovieRecommender` class is designed to provide movie recommendations based on user descriptions.\n",
        "It takes an IMDb-style CSV file (e.g., `imdb_top_1000.csv`) and uses TF-IDF vectorization and\n",
        "cosine similarity to match user preferences with relevant movie titles.\n",
        "\n",
        "**Key Features:**\n",
        "1. **Data Preparation**: The class reads movie data from a CSV and cleans or weights key text fields\n",
        "   (e.g., genres and overview) for improved recommendation quality.\n",
        "2. **Genre Synonyms**: It handles multiple user expressions for the same genre\n",
        "   (e.g., \"scifi\" → \"sci-fi\").\n",
        "3. **Settings Detection**: It includes a simple “setting” detection mechanism\n",
        "   (e.g., \"medieval\", \"space\") and boosts similarity scores if the movie\n",
        "   matches those settings.\n",
        "4. **Composite Scoring**: Final similarity scores are computed by blending:\n",
        "   - TF-IDF similarity (40%)\n",
        "   - Genre match score (30%)\n",
        "   - Setting match score (30%)\n",
        "\n",
        "**Class Usage Example**:\n",
        "- Instantiate the class by providing the path to your CSV file:\n",
        "  ```python\n",
        "  recommender = MovieRecommender('imdb_top_1000.csv')\n"
      ],
      "metadata": {
        "id": "41aETc6FDN1S"
      }
    },
    {
      "cell_type": "code",
      "source": [
        "class MovieRecommender:\n",
        "    def __init__(self, data_path):\n",
        "        self.df = pd.read_csv(data_path)\n",
        "        self.prepare_data()\n",
        "        self.vectorizer = None\n",
        "        self.tfidf_matrix = None\n",
        "        self.fit_vectorizer()\n",
        "\n",
        "        # Define key settings and their related terms\n",
        "        self.settings = {\n",
        "            'space': ['space', 'alien', 'galaxy', 'planet', 'astronaut', 'cosmic',\n",
        "                     'spacecraft', 'spaceship', 'orbit', 'stellar', 'interstellar'],\n",
        "            'future': ['future', 'dystopia', 'cyberpunk', 'futuristic'],\n",
        "            'medieval': ['medieval', 'kingdom', 'castle', 'sword', 'knight'],\n",
        "            'modern': ['modern', 'contemporary', 'today', 'present'],\n",
        "            'historical': ['history', 'historical', 'period', 'century', 'ancient']\n",
        "        }\n",
        "\n",
        "        # Defining synonyms for genre extraction from user queries\n",
        "        self.genre_synonyms = {\n",
        "            'action': ['action', 'actions', 'action-packed'],\n",
        "            'adventure': ['adventure', 'adventures', 'adventurous'],\n",
        "            'comedy': ['comedy', 'comedies', 'comic'],\n",
        "            'drama': ['drama', 'dramas', 'dramatic'],\n",
        "            'thriller': ['thriller', 'thrillers'],\n",
        "            'horror': ['horror', 'horrors', 'horrific', 'scary'],\n",
        "            'romance': ['romance', 'romantic', 'love story', 'love stories'],\n",
        "            'sci-fi': ['sci-fi', 'scifi', 'science fiction', 'sf'],\n",
        "            'mystery': ['mystery', 'mysteries'],\n",
        "            'crime': ['crime', 'criminal'],\n",
        "            'fantasy': ['fantasy', 'fantastical'],\n",
        "            'animation': ['animated', 'animation', 'cartoon']\n",
        "        }\n",
        "\n",
        "    def prepare_data(self):\n",
        "        self.df['weighted_genre'] = self.df['Genre'].fillna('').apply(\n",
        "            lambda x: ' '.join([x.lower()] * 3)\n",
        "        )\n",
        "        self.df['weighted_overview'] = self.df['Overview'].fillna('').apply(\n",
        "            lambda x: ' '.join([x.lower()] * 2)\n",
        "        )\n",
        "        # Combine features with weighted components\n",
        "        self.df['combined_features'] = (\n",
        "            self.df['weighted_genre'] + ' ' +\n",
        "            self.df['weighted_overview'] + ' ' +\n",
        "            self.df['Director'].fillna('').str.lower() + ' ' +\n",
        "            self.df['Star1'].fillna('').str.lower() + ' ' +\n",
        "            self.df['Star2'].fillna('').str.lower()\n",
        "        )\n",
        "        self.df['combined_features'] = self.df['combined_features'].apply(\n",
        "            lambda x: re.sub(r'[^\\w\\s]', ' ', str(x).lower())\n",
        "        )\n",
        "\n",
        "    # Create and fit the TF-IDF vectorizer on the movie data\n",
        "    def fit_vectorizer(self):\n",
        "        self.vectorizer = TfidfVectorizer(\n",
        "            stop_words='english',\n",
        "            max_features=5000,\n",
        "            ngram_range=(1, 2)\n",
        "        )\n",
        "        self.tfidf_matrix = self.vectorizer.fit_transform(self.df['combined_features'])\n",
        "\n",
        "    # Extract potential genre preferences from user input using a dictionary of synonyms and canonical genre labels.\n",
        "    def extract_genres(self, text):\n",
        "        text_lower = text.lower()\n",
        "        matched_genres = []\n",
        "        for genre, syns in self.genre_synonyms.items():\n",
        "            # If any synonym for this genre is in the user's text, add the genre\n",
        "            if any(syn in text_lower for syn in syns):\n",
        "                matched_genres.append(genre)\n",
        "\n",
        "        return list(set(matched_genres))  # Return unique genres\n",
        "\n",
        "    # Calculate a genre matching score based on overlap between user genres and the movie's listed genres.\n",
        "    def get_genre_match_score(self, user_genres, movie_genres):\n",
        "        if not user_genres or not movie_genres:\n",
        "            return 0.0\n",
        "        movie_genres_list = [g.lower().strip() for g in movie_genres.split(',')]\n",
        "        matches = sum(1 for g in user_genres if any(g in mg for mg in movie_genres_list))\n",
        "        return matches / len(user_genres) if user_genres else 0.0\n",
        "\n",
        "    def get_setting_match_score(self, user_description, movie_overview):\n",
        "        user_description = user_description.lower()\n",
        "        movie_overview = str(movie_overview).lower()\n",
        "        setting_score = 0\n",
        "        max_setting_score = 0\n",
        "\n",
        "        for setting, keywords in self.settings.items():\n",
        "            setting_mentioned = any(word in user_description for word in keywords)\n",
        "            if setting_mentioned:\n",
        "                max_setting_score += 1\n",
        "                keyword_matches = sum(1 for word in keywords if word in movie_overview)\n",
        "                if keyword_matches > 0:\n",
        "                    setting_score += min(keyword_matches / len(keywords), 1.0)\n",
        "\n",
        "        return setting_score / max_setting_score if max_setting_score > 0 else 0.0\n",
        "\n",
        "    def get_recommendations(self, user_description, n_recommendations=5):\n",
        "        # Clean and vectorize user input\n",
        "        cleaned_input = re.sub(r'[^\\w\\s]', ' ', user_description.lower())\n",
        "        user_vector = self.vectorizer.transform([cleaned_input])\n",
        "\n",
        "        # Extract genre preferences from user input\n",
        "        user_genres = self.extract_genres(cleaned_input)\n",
        "\n",
        "        # Calculate base TF-IDF similarity scores\n",
        "        similarity_scores = cosine_similarity(user_vector, self.tfidf_matrix).flatten()\n",
        "\n",
        "        # Adjust scores by combining multiple factors\n",
        "        for idx, (movie_genres, movie_overview) in enumerate(zip(self.df['Genre'], self.df['Overview'])):\n",
        "            # Genre matching\n",
        "            genre_score = self.get_genre_match_score(user_genres, str(movie_genres))\n",
        "\n",
        "            # Setting matching\n",
        "            setting_score = self.get_setting_match_score(user_description, movie_overview)\n",
        "\n",
        "            # Combine scores with weights\n",
        "            similarity_scores[idx] = (\n",
        "                similarity_scores[idx] * 0.4 +  # Base TF-IDF similarity\n",
        "                genre_score * 0.3 +            # Genre matching\n",
        "                setting_score * 0.3            # Setting matching\n",
        "            )\n",
        "\n",
        "        # Get top N movie indices\n",
        "        top_indices = similarity_scores.argsort()[-n_recommendations:][::-1]\n",
        "\n",
        "        recommendations = []\n",
        "        for idx in top_indices:\n",
        "            movie = self.df.iloc[idx]\n",
        "            recommendations.append({\n",
        "                'title': movie['Series_Title'],\n",
        "                'year': movie['Released_Year'],\n",
        "                'genre': movie['Genre'],\n",
        "                'rating': movie['IMDB_Rating'],\n",
        "                'overview': movie['Overview'],\n",
        "                'similarity_score': round(similarity_scores[idx], 3)\n",
        "            })\n",
        "\n",
        "        return recommendations"
      ],
      "metadata": {
        "id": "3iImjBSvAIXh"
      },
      "execution_count": 44,
      "outputs": []
    },
    {
      "cell_type": "markdown",
      "source": [
        "# Main Function:"
      ],
      "metadata": {
        "id": "Vt_bbolbDhz3"
      }
    },
    {
      "cell_type": "code",
      "source": [
        "def main():\n",
        "    # 'data_path' will contain path for your .csv file\n",
        "    data_path = 'imdb_top_1000.csv'\n",
        "\n",
        "    recommender = MovieRecommender(data_path)\n",
        "\n",
        "    # User need to Enter Their Preference\n",
        "    user_input = input(\"Enter your movie preferences: \")\n",
        "    recommendations = recommender.get_recommendations(user_input, n_recommendations=5)\n",
        "\n",
        "    # Print 5 recommendations:\n",
        "    print(f\"\\nRecommendations for: '{user_input}'\\n\")\n",
        "    for i, rec in enumerate(recommendations, 1):\n",
        "        print(f\"{i}. {rec['title']} ({rec['year']}) - {rec['genre']}\")\n",
        "        print(f\"   Rating: {rec['rating']}\")\n",
        "        print(f\"   Similarity Score: {rec['similarity_score']}\")\n",
        "        print(f\"   Overview: {rec['overview'][:150]}...\")\n",
        "        print()\n",
        "\n",
        "if __name__ == \"__main__\":\n",
        "    main()"
      ],
      "metadata": {
        "colab": {
          "base_uri": "https://localhost:8080/"
        },
        "id": "C8DbFcz2A8-B",
        "outputId": "285ffa41-4d9d-408f-e6d6-34f9bb45999c"
      },
      "execution_count": 45,
      "outputs": [
        {
          "output_type": "stream",
          "name": "stdout",
          "text": [
            "Enter your movie preferences: I love action and science fiction movies.\n",
            "\n",
            "Recommendations for: 'I love action and science fiction movies.'\n",
            "\n",
            "1. Captain America: Civil War (2016) - Action, Adventure, Sci-Fi\n",
            "   Rating: 7.8\n",
            "   Similarity Score: 0.315\n",
            "   Overview: Political involvement in the Avengers' affairs causes a rift between Captain America and Iron Man....\n",
            "\n",
            "2. Serenity (2005) - Action, Adventure, Sci-Fi\n",
            "   Rating: 7.8\n",
            "   Similarity Score: 0.315\n",
            "   Overview: The crew of the ship Serenity try to evade an assassin sent to recapture one of their members who is telepathic....\n",
            "\n",
            "3. Edge of Tomorrow (2014) - Action, Adventure, Sci-Fi\n",
            "   Rating: 7.9\n",
            "   Similarity Score: 0.314\n",
            "   Overview: A soldier fighting aliens gets to relive the same day over and over again, the day restarting every time he dies....\n",
            "\n",
            "4. Predator (1987) - Action, Adventure, Sci-Fi\n",
            "   Rating: 7.8\n",
            "   Similarity Score: 0.314\n",
            "   Overview: A team of commandos on a mission in a Central American jungle find themselves hunted by an extraterrestrial warrior....\n",
            "\n",
            "5. Rogue One (2016) - Action, Adventure, Sci-Fi\n",
            "   Rating: 7.8\n",
            "   Similarity Score: 0.313\n",
            "   Overview: The daughter of an Imperial scientist joins the Rebel Alliance in a risky move to steal the plans for the Death Star....\n",
            "\n"
          ]
        }
      ]
    },
    {
      "cell_type": "code",
      "source": [],
      "metadata": {
        "id": "WBxko-59A9y-"
      },
      "execution_count": null,
      "outputs": []
    }
  ]
}